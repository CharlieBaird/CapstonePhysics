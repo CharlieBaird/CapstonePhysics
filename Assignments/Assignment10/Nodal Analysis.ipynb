{
 "cells": [
  {
   "cell_type": "markdown",
   "source": [
    "## Nodal Analysis"
   ],
   "metadata": {}
  },
  {
   "cell_type": "code",
   "execution_count": 81,
   "source": [
    "import numpy as np\n",
    "import matplotlib.pyplot as plt"
   ],
   "outputs": [],
   "metadata": {}
  },
  {
   "cell_type": "markdown",
   "source": [
    "One of the fundamental laws used in circuit analysis is Kirchhoff's Current Law (KCL). This law is summarized as the total current entering the junction must be equal to the total current leaving a junction. Since current is the flow of charge (specifically, $I = \\frac{dQ}{dt}$), this law is a statement of conservation of charge. "
   ],
   "metadata": {}
  },
  {
   "cell_type": "markdown",
   "source": [
    "We can combine KCL with Ohm's law ($V=IR$) to easily find the voltage at junctions in complex circuits where you can't (or don't want to) manually analyze the system by hand. "
   ],
   "metadata": {}
  },
  {
   "cell_type": "markdown",
   "source": [
    "I'll demonstrate this concept on the simple circuit below (the units on the resistors are in Ohms)."
   ],
   "metadata": {}
  },
  {
   "cell_type": "markdown",
   "source": [
    "<img src=\"Sample.png\">"
   ],
   "metadata": {}
  },
  {
   "cell_type": "markdown",
   "source": [
    "This circuit is really simple, and you can solve for the values of $V_1$ and $V_2$ just by looking at it. Most useful circuits are substantially more complex, but we'll start here to develop the concepts, and then apply it to more complex circuits. "
   ],
   "metadata": {}
  },
  {
   "cell_type": "markdown",
   "source": [
    "Applying KCL to $V_1$, we can obtain the following equation:\n",
    "$$ I_{V_1 \\rightarrow V_+} + I_{V_1 \\rightarrow V_2} = 0 $$\n",
    "\n",
    "If we assume the \"positive\" direction is away $V_1$, one of these current values will be negative, so that the current flowing into $V_1$ will equal the current flowing out of $V_1$. \n",
    "\n",
    "Applying Ohm's Law, we can re-write the above equation as:\n",
    "$$ \\frac{V_+ - V_1}{200} + \\frac{V_2 - V_1}{100} = 0 $$\n",
    "\n",
    "Which we can simplify to:\n",
    "\n",
    "$$ 3V_1 - 2V_2 = V_+$$"
   ],
   "metadata": {}
  },
  {
   "cell_type": "markdown",
   "source": [
    "We can do the same thing with $V_2$:\n",
    "\n",
    "$$I_{V_2 \\rightarrow V_1} + I_{V_2 \\rightarrow 0} = 0 $$\n",
    "\n",
    "$$\\frac{V_1 - V_2}{100} + \\frac{0 - V_2}{200} = 0$$\n",
    "\n",
    "$$3V_2 -2V_1 = 0$$"
   ],
   "metadata": {}
  },
  {
   "cell_type": "markdown",
   "source": [
    "Now we have a system of equations that we can express in matrix form:\n",
    "\n",
    "$$\n",
    "\\begin{bmatrix}\n",
    "3 && -2 \\\\\n",
    "-2 && 3\n",
    "\\end{bmatrix}\n",
    "\\begin{bmatrix}\n",
    "V_1 \\\\\n",
    "V_2 \n",
    "\\end{bmatrix}\n",
    "=\n",
    "\\begin{bmatrix}\n",
    "V_+\\\\\n",
    "0\n",
    "\\end{bmatrix}\n",
    "$$"
   ],
   "metadata": {}
  },
  {
   "cell_type": "markdown",
   "source": [
    "Since we know the value of $V_+$ we can write this as an augmented matrix and plug it into the solver function we created on the previous assignment. "
   ],
   "metadata": {}
  },
  {
   "cell_type": "code",
   "execution_count": 82,
   "source": [
    "## TO DO: Copy and paste your 'solve_system(matrix)' function from yesterday's assignment. \n",
    "def solve_system(matrix):\n",
    "    \"\"\"\n",
    "    Solves a system of linear equations\n",
    "    Parameters:\n",
    "        matrix(N x N+1 numpy array): the augmented matrix to be solved\n",
    "    Returns:\n",
    "        (N x 1 numpy array): array of the solutions to the linear equations\n",
    "    \"\"\"\n",
    "    N = len(matrix)\n",
    "    matrix = matrix.astype(\"float64\")\n",
    "    \n",
    "    # This is inefficient but I do not care! It works!\n",
    "    # Need to do partial pivot a lot so that it doesn't divide by 0, unsure how else to fix.\n",
    "\n",
    "    # Partial pivot\n",
    "    for i in range(N): \n",
    "        maxVal = matrix[i][i]\n",
    "        maxRow = i\n",
    "        for j in range(i+1, N):\n",
    "            if (matrix[j][i] > maxVal):\n",
    "                maxVal = matrix[j][i]\n",
    "                maxRow = j\n",
    "\n",
    "        matrix[[i, maxRow]] = matrix[[maxRow, i]]\n",
    "\n",
    "    # Divide by diagonal terms\n",
    "    for i in range(N): \n",
    "        if (matrix[i][i] != 0):\n",
    "            matrix[i] = matrix[i] / matrix[i][i]\n",
    "\n",
    "    # Partial pivot\n",
    "    for i in range(N): \n",
    "        maxVal = matrix[i][i]\n",
    "        maxRow = i\n",
    "        for j in range(i+1, N):\n",
    "            if (matrix[j][i] > maxVal):\n",
    "                maxVal = matrix[j][i]\n",
    "                maxRow = j\n",
    "\n",
    "        matrix[[i, maxRow]] = matrix[[maxRow, i]]\n",
    "\n",
    "    # Divide by diagonal terms\n",
    "    for i in range(N): \n",
    "        if (matrix[i][i] != 0):\n",
    "            matrix[i] = matrix[i] / matrix[i][i]\n",
    "\n",
    "    # Make matrix upper-triangle\n",
    "    for i in range(1, N):\n",
    "        for j in range (0, i):\n",
    "            term = matrix[i][j]\n",
    "            matrix[i] = matrix[i] - term*matrix[j]\n",
    "\n",
    "        if (matrix[i][i] != 0):\n",
    "            matrix[i] = matrix[i] / matrix[i][i]\n",
    "\n",
    "    # Partial pivot\n",
    "    for i in range(N): \n",
    "        maxVal = matrix[i][i]\n",
    "        maxRow = i\n",
    "        for j in range(i+1, N):\n",
    "            if (matrix[j][i] > maxVal):\n",
    "                maxVal = matrix[j][i]\n",
    "                maxRow = j\n",
    "\n",
    "        matrix[[i, maxRow]] = matrix[[maxRow, i]]\n",
    "\n",
    "    # Divide by diagonal terms\n",
    "    for i in range(N): \n",
    "        if (matrix[i][i] != 0):\n",
    "            matrix[i] = matrix[i] / matrix[i][i]\n",
    "\n",
    "    # Perform backsubstitution\n",
    "    for l in range(N-1, 0, -1):\n",
    "        for k in range(l):\n",
    "            matrix[k]-= matrix[k][l]*matrix[l]\n",
    "    \n",
    "    np.round(matrix)\n",
    "    print(matrix)\n",
    "\n",
    "    return matrix[:, -1]"
   ],
   "outputs": [],
   "metadata": {}
  },
  {
   "cell_type": "code",
   "execution_count": 83,
   "source": [
    "## TO DO: Create the augemented matrix for the matrix equation shown above\n",
    "test_a = np.array([[3, -2, 5], [-2, 3, 0]])"
   ],
   "outputs": [],
   "metadata": {}
  },
  {
   "cell_type": "code",
   "execution_count": 84,
   "source": [
    "## TO DO: Solve the matrix using your solve_system function\n",
    "print(solve_system(test_a))"
   ],
   "outputs": [
    {
     "output_type": "stream",
     "name": "stdout",
     "text": [
      "[[1. 0. 3.]\n",
      " [0. 1. 2.]]\n",
      "[3. 2.]\n"
     ]
    }
   ],
   "metadata": {}
  },
  {
   "cell_type": "markdown",
   "source": [
    "Applying the same process as above, find the voltages at  $V_1$, $V_2$, $V_3$, and $V_4$."
   ],
   "metadata": {}
  },
  {
   "cell_type": "markdown",
   "source": [
    "If you want to check your answer, you can solve it by hand, or build the circuit in https://www.falstad.com/circuit/"
   ],
   "metadata": {}
  },
  {
   "cell_type": "markdown",
   "source": [
    "<img width=300px src = \"Circuit1.png\">"
   ],
   "metadata": {}
  },
  {
   "cell_type": "code",
   "execution_count": 85,
   "source": [
    "## TO DO: Create an augmented matrix for the above circuit\n",
    "test_b = np.array([[-3, 1, 1, 0, -5], [1, -4, 1, 1, -5], [1, 1, -4, 1, 0], [0, 1, 1, -3, 0]])"
   ],
   "outputs": [],
   "metadata": {}
  },
  {
   "cell_type": "code",
   "execution_count": 86,
   "source": [
    "## TO DO: Solve the matrix using your solve_system function\n",
    "print(solve_system(test_b))"
   ],
   "outputs": [
    {
     "output_type": "stream",
     "name": "stdout",
     "text": [
      "[[ 1.          0.          0.          0.          3.33333333]\n",
      " [ 0.          1.          0.          0.          3.        ]\n",
      " [ 0.          0.          1.          0.          2.        ]\n",
      " [-0.         -0.         -0.          1.          1.66666667]]\n",
      "[3.33333333 3.         2.         1.66666667]\n"
     ]
    }
   ],
   "metadata": {}
  },
  {
   "cell_type": "markdown",
   "source": [
    "Applying the same process as above, find the voltages at  $V_1$, $V_2$, $V_3$, $V_4$, $V_5$, $V_6$, and $V_7$."
   ],
   "metadata": {}
  },
  {
   "cell_type": "markdown",
   "source": [
    "If you want to check your answer, you can solve it by hand, or build the circuit in https://www.falstad.com/circuit/"
   ],
   "metadata": {}
  },
  {
   "cell_type": "markdown",
   "source": [
    "<img src = \"Circuit2.png\">"
   ],
   "metadata": {}
  },
  {
   "cell_type": "code",
   "execution_count": 87,
   "source": [
    "## TO DO: Create an augmented matrix for the above circuit\n",
    "test_c = np.array([\n",
    "[-2, 0, 1, 0, 0, 0, 0, -5], \n",
    "[0, -3, 0, 1, 1, 0, 0, -5], \n",
    "[1, 0, -4, 1, 0, 1, 0, -5], \n",
    "[0, 1, 1, -6, 1, 1, 0, -5], \n",
    "[0, 1, 0, 1, -4, 0, 1, 0], \n",
    "[0, 0, 1, 1, 0, -3, 0, 0], \n",
    "[0, 0, 0, 0, 1, 0, -2, 0]\n",
    ",])"
   ],
   "outputs": [],
   "metadata": {}
  },
  {
   "cell_type": "code",
   "execution_count": 88,
   "source": [
    "## TO DO: Solve the matrix using your solve_system function\n",
    "print(solve_system(test_c))"
   ],
   "outputs": [
    {
     "output_type": "stream",
     "name": "stdout",
     "text": [
      "[[ 1.          0.          0.          0.          0.          0.\n",
      "   0.          4.21052632]\n",
      " [ 0.          1.          0.          0.          0.          0.\n",
      "   0.          3.02631579]\n",
      " [ 0.          0.          1.          0.          0.          0.\n",
      "   0.          3.42105263]\n",
      " [ 0.          0.          0.          1.          0.          0.\n",
      "   0.          2.5       ]\n",
      " [ 0.          0.          0.          0.          1.          0.\n",
      "   0.          1.57894737]\n",
      " [ 0.          0.          0.          0.          0.          1.\n",
      "   0.          1.97368421]\n",
      " [-0.         -0.         -0.         -0.         -0.         -0.\n",
      "   1.          0.78947368]]\n",
      "[4.21052632 3.02631579 3.42105263 2.5        1.57894737 1.97368421\n",
      " 0.78947368]\n"
     ]
    }
   ],
   "metadata": {}
  }
 ],
 "metadata": {
  "kernelspec": {
   "name": "python3",
   "display_name": "Python 3.8.8 64-bit ('base': conda)"
  },
  "language_info": {
   "codemirror_mode": {
    "name": "ipython",
    "version": 3
   },
   "file_extension": ".py",
   "mimetype": "text/x-python",
   "name": "python",
   "nbconvert_exporter": "python",
   "pygments_lexer": "ipython3",
   "version": "3.8.8"
  },
  "interpreter": {
   "hash": "ef8a025e4cb44bf3c186bd9e6cf389595f698672843f9ad315610793c7cfbc33"
  }
 },
 "nbformat": 4,
 "nbformat_minor": 2
}