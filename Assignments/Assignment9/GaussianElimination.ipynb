{
 "cells": [
  {
   "cell_type": "markdown",
   "source": [
    "# Gaussian Elimination"
   ],
   "metadata": {}
  },
  {
   "cell_type": "code",
   "execution_count": 1,
   "source": [
    "import numpy as np\n",
    "import matplotlib.pyplot as plt"
   ],
   "outputs": [],
   "metadata": {}
  },
  {
   "cell_type": "markdown",
   "source": [
    "Assume we have a relationship betwen three variables x, y, and z, that can be related using the following three equations:\n",
    "\n",
    "$$2x - 4y + z = -3$$\n",
    "$$-x + 2y -2z = -3$$\n",
    "$$x + y + z = 6$$\n",
    "\n",
    "We can then express these relationships in the matrix form:\n",
    "\n",
    "$$\n",
    "\\begin{bmatrix}\n",
    "2 && -4 && 1 \\\\\n",
    "-1 && 2 && -2 \\\\\n",
    "1 && 1 && 1\n",
    "\\end{bmatrix} \n",
    "\\begin{bmatrix} x \\\\ y \\\\ z \\end{bmatrix} =\n",
    "\\begin{bmatrix} -3 \\\\ -3 \\\\ 6\\end{bmatrix}$$\n",
    "\n",
    "Often, this relation is written in it's more condensed short-hand form (known as an augmented matrix):\n",
    "\n",
    "$$\n",
    "\\left[\n",
    "\\begin{matrix}\n",
    "2 && -4 && 1 \\\\\n",
    "-1 && 2 && -2 \\\\\n",
    "1 && 1 && 1\n",
    "\\end{matrix}\n",
    "\\middle|\n",
    "\\begin{matrix}\n",
    "-3 \\\\ \n",
    "-3 \\\\ \n",
    "6\n",
    "\\end{matrix}\n",
    "\\right]$$"
   ],
   "metadata": {}
  },
  {
   "cell_type": "markdown",
   "source": [
    "The idea of these problems, is to solve for the x, y and z values that satisfy the above conditions."
   ],
   "metadata": {}
  },
  {
   "cell_type": "markdown",
   "source": [
    "\n",
    "When writing this process in a computer program, we need a very structured way of iterating and processing data. We'll want to organize our matrix in a way such that our program can solve every matrix in the same way. \n",
    "\n",
    "If we were computing this solution by hand, we'd know the following two matrices are identical statements (notice, just two rows are swapped):\n",
    "\n",
    "$$\n",
    "\\left[\n",
    "\\begin{matrix}\n",
    "1 && 0 && 0 \\\\\n",
    "0 && 0 && 1 \\\\\n",
    "0 && 1 && 0 \\\\\n",
    "\\end{matrix}\n",
    "\\middle|\n",
    "\\begin{matrix}\n",
    "1 \\\\ 3 \\\\ 2\n",
    "\\end{matrix}\n",
    "\\right]\n",
    "=\n",
    "\\left[\n",
    "\\begin{matrix}\n",
    "1 && 0 && 0 \\\\\n",
    "0 && 1 && 0 \\\\\n",
    "0 && 0 && 1 \\\\\n",
    "\\end{matrix}\n",
    "\\middle|\n",
    "\\begin{matrix}\n",
    "1 \\\\ 2 \\\\ 3\n",
    "\\end{matrix}\n",
    "\\right]\n",
    "$$"
   ],
   "metadata": {}
  },
  {
   "cell_type": "markdown",
   "source": [
    "But, in order to create a strategic and methodically process for the computer, we'll have to organize the matrix such that our solution matrix will have 1's in the diagonal (also called the Identity Matrix)."
   ],
   "metadata": {}
  },
  {
   "cell_type": "markdown",
   "source": [
    "Here's how we can implement gaussian elimination with backsubstitution on the computer:"
   ],
   "metadata": {}
  },
  {
   "cell_type": "markdown",
   "source": [
    "#### Part 1: Iterate through your matrix. For each row, do the following steps:"
   ],
   "metadata": {}
  },
  {
   "cell_type": "markdown",
   "source": [
    "##### Step 1: Partial Pivot\n",
    "\n",
    "Essentially, this just means we're going to include a process that will swap rows so that our final matrix will be the identity matrix.\n",
    "\n",
    "While you're iterating though the matrix, you'll need to compare the <i>ith</i> term of the <i>ith</i> row to the <i>ith</i> term in all the following rows. Swap the <i>ith</i> row with the row that has the largest <i>ith</i> element. (\"Largest\" in this case means farthest from 0, so you'll want to compare the absolute values). "
   ],
   "metadata": {}
  },
  {
   "cell_type": "markdown",
   "source": [
    "##### Step 2: Divide by the diagonal term\n",
    "Divide the whole row by it's diagonal term (such that the diagonal term is a one). "
   ],
   "metadata": {}
  },
  {
   "cell_type": "markdown",
   "source": [
    "##### Step 3: Add multiples\n",
    "The goal in this step is to make the matrix upper triangular (every element below the diagonal is 0).\n",
    "\n",
    "Our first row currently has a 1 in the leftmost position. We want to zero out the leftmost position for all of the following rows. So for every row after the 1st row, you'll subtract some multiple times the first row.\n",
    "\n",
    "When you repeat all of these steps on the <i>ith</i> row, you'll do the same thing for all of the following rows."
   ],
   "metadata": {}
  },
  {
   "cell_type": "markdown",
   "source": [
    "After you repeat all of the above steps on the entirety of the matrix, your matrix should be upper triangular with ones along the diagonal. The last step is to use backsubstitution to get the identity matrix. "
   ],
   "metadata": {}
  },
  {
   "cell_type": "markdown",
   "source": [
    "#### Part 2: Backsubstitution\n",
    "Now that the matrix is upper triangular, we'll want to add multiples of rows to manipulate it into the identity matrix. Our last row contains only one value, add multiples of this row to each of the preceding rows to zero out the position in this matrix for all but the last row. Move up to the second to last row, and repeat this process. "
   ],
   "metadata": {}
  },
  {
   "cell_type": "markdown",
   "source": [
    "I recommend implementing the basics without the partial pivot, then incorporate the partial pivot after you have a solution that works for some matrices (I've included a collection of assert statements below that will pass without the partial pivot implemented). "
   ],
   "metadata": {}
  },
  {
   "cell_type": "code",
   "execution_count": 2,
   "source": [
    "## TO DO: Copy and paste your 'solve_system(matrix)' function from yesterday's assignment. \n",
    "def solve_system(matrix):\n",
    "    \"\"\"\n",
    "    Solves a system of linear equations\n",
    "    Parameters:\n",
    "        matrix(N x N+1 numpy array): the augmented matrix to be solved\n",
    "    Returns:\n",
    "        (N x 1 numpy array): array of the solutions to the linear equations\n",
    "    \"\"\"\n",
    "    N = len(matrix)\n",
    "    matrix = matrix.astype(\"float64\")\n",
    "    \n",
    "    # This is inefficient but I do not care! It works!\n",
    "    # Need to do partial pivot a lot so that it doesn't divide by 0, unsure how else to fix.\n",
    "\n",
    "    # Partial pivot\n",
    "    for i in range(N): \n",
    "        maxVal = matrix[i][i]\n",
    "        maxRow = i\n",
    "        for j in range(i+1, N):\n",
    "            if (matrix[j][i] > maxVal):\n",
    "                maxVal = matrix[j][i]\n",
    "                maxRow = j\n",
    "\n",
    "        matrix[[i, maxRow]] = matrix[[maxRow, i]]\n",
    "\n",
    "    # Divide by diagonal terms\n",
    "    for i in range(N): \n",
    "        if (matrix[i][i] != 0):\n",
    "            matrix[i] = matrix[i] / matrix[i][i]\n",
    "\n",
    "    # Partial pivot\n",
    "    for i in range(N): \n",
    "        maxVal = matrix[i][i]\n",
    "        maxRow = i\n",
    "        for j in range(i+1, N):\n",
    "            if (matrix[j][i] > maxVal):\n",
    "                maxVal = matrix[j][i]\n",
    "                maxRow = j\n",
    "\n",
    "        matrix[[i, maxRow]] = matrix[[maxRow, i]]\n",
    "\n",
    "    # Divide by diagonal terms\n",
    "    for i in range(N): \n",
    "        if (matrix[i][i] != 0):\n",
    "            matrix[i] = matrix[i] / matrix[i][i]\n",
    "\n",
    "    # Make matrix upper-triangle\n",
    "    for i in range(1, N):\n",
    "        for j in range (0, i):\n",
    "            term = matrix[i][j]\n",
    "            matrix[i] = matrix[i] - term*matrix[j]\n",
    "\n",
    "        if (matrix[i][i] != 0):\n",
    "            matrix[i] = matrix[i] / matrix[i][i]\n",
    "\n",
    "    # Partial pivot\n",
    "    for i in range(N): \n",
    "        maxVal = matrix[i][i]\n",
    "        maxRow = i\n",
    "        for j in range(i+1, N):\n",
    "            if (matrix[j][i] > maxVal):\n",
    "                maxVal = matrix[j][i]\n",
    "                maxRow = j\n",
    "\n",
    "        matrix[[i, maxRow]] = matrix[[maxRow, i]]\n",
    "\n",
    "    # Divide by diagonal terms\n",
    "    for i in range(N): \n",
    "        if (matrix[i][i] != 0):\n",
    "            matrix[i] = matrix[i] / matrix[i][i]\n",
    "\n",
    "    # Perform backsubstitution\n",
    "    for l in range(N-1, 0, -1):\n",
    "        for k in range(l):\n",
    "            matrix[k]-= matrix[k][l]*matrix[l]\n",
    "\n",
    "    return matrix[:, -1]"
   ],
   "outputs": [],
   "metadata": {}
  },
  {
   "cell_type": "markdown",
   "source": [
    "I've included a detailed list of tests below. Once your code is running correctly, all of the following tests will pass. "
   ],
   "metadata": {}
  },
  {
   "cell_type": "code",
   "execution_count": 3,
   "source": [
    "test_a = np.array([[1, 0, 3], [0, 1, 2]])\n",
    "test_b = np.array([[3, 1, 5], [2, 2, 6]])\n",
    "test_c = np.array([[2,1,4,1,-4], [3,4,-1,-1,3], [1,-4,1,5,9], [2,-2,1,3,7]])\n",
    "test_d = np.array([[0, 1, 2], [1, 0, 3]])\n",
    "test_e = np.array([[2, -4, 1, -3], [-1, 2, -2, -3], [1, 1, 1, 6]])\n",
    "test_f = np.array([[1,1,1,1,12], [2, -1, -1, 1, 4], [1, -2, 1, -2, -15], [3, 3, 2, -1, 15]])\n",
    "test_g = np.array([[0, 0, 1, 0, 10], [0, 1, 0, 0, 3], [1, 0, 0, 0, 4], [0, 0, 0, 1, 2]])"
   ],
   "outputs": [],
   "metadata": {}
  },
  {
   "cell_type": "code",
   "execution_count": null,
   "source": [
    "# These will pass without the pivot functionality\n",
    "assert(np.all((solve_system(test_a) - np.array([3, 2]) < 0.0001)))\n",
    "assert(np.all((solve_system(test_b) - np.array([1, 2]) < 0.0001)))\n",
    "assert(np.all((solve_system(test_c) - np.array([2, -1, -2, 1]) < 0.0001)))\n",
    "assert(np.all((solve_system(test_f) - np.array([2, 4, 1, 5]) < 0.0001)))"
   ],
   "outputs": [],
   "metadata": {}
  },
  {
   "cell_type": "code",
   "execution_count": null,
   "source": [
    "# These will NOT pass unless you have the partial pivot implemented correct\n",
    "assert(np.all((solve_system(test_d) - np.array([3, 2]) < 0.0001)))\n",
    "assert(np.all((solve_system(test_e) - np.array([1, 2, 3]) < 0.0001)))\n",
    "assert(np.all((solve_system(test_g) - np.array([4, 3, 10, 2]) < 0.0001)))"
   ],
   "outputs": [],
   "metadata": {}
  },
  {
   "cell_type": "code",
   "execution_count": null,
   "source": [],
   "outputs": [],
   "metadata": {}
  }
 ],
 "metadata": {
  "kernelspec": {
   "name": "python3",
   "display_name": "Python 3.8.8 64-bit ('base': conda)"
  },
  "language_info": {
   "codemirror_mode": {
    "name": "ipython",
    "version": 3
   },
   "file_extension": ".py",
   "mimetype": "text/x-python",
   "name": "python",
   "nbconvert_exporter": "python",
   "pygments_lexer": "ipython3",
   "version": "3.8.8"
  },
  "interpreter": {
   "hash": "ef8a025e4cb44bf3c186bd9e6cf389595f698672843f9ad315610793c7cfbc33"
  }
 },
 "nbformat": 4,
 "nbformat_minor": 2
}