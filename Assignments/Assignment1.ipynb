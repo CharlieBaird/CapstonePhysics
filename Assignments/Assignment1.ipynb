{
 "cells": [
  {
   "cell_type": "markdown",
   "source": [
    "## Assignment 1: Introduction to Python"
   ],
   "metadata": {}
  },
  {
   "cell_type": "code",
   "execution_count": 1,
   "source": [
    "from numpy import sqrt"
   ],
   "outputs": [],
   "metadata": {}
  },
  {
   "cell_type": "markdown",
   "source": [
    "From <u> Computational Physics </u> by Newman\n",
    "\n",
    "Exercise 2.1:\n",
    "\n",
    "A ball is dropped from a tower of height $h$ with an initial velocity of zero. \n",
    "Write a function that takes the height of the tower in meters as an argument and then calculates and returns the time it takes until the ball hits the ground (ignoring air resistance). <b> Use $g = 10\\ m/s^2$ </b>\n",
    "\n",
    "You may find the following kinematic equation to be helpful:\n",
    "$$ x_f = x_0 + v_0 t + \\frac{1}{2} a t^2 $$"
   ],
   "metadata": {}
  },
  {
   "cell_type": "code",
   "execution_count": 2,
   "source": [
    "def time_to_fall(h):\n",
    "    \"\"\"\n",
    "    Calculates the amount of time it takes a ball to fall from a tower of height h with intial velocity zero.\n",
    "    Parameters:\n",
    "        h (float) - the height of the tower in meters\n",
    "    Returns:\n",
    "        (float) time in seconds\n",
    "    \n",
    "    \"\"\"\n",
    "\n",
    "    return sqrt((2*h)/10)\n",
    "    \n",
    "    # TO DO: Complete this function\n",
    "    pass"
   ],
   "outputs": [],
   "metadata": {}
  },
  {
   "cell_type": "markdown",
   "source": [
    "Below I've added `assert` statements. These statements are useful ways to test functionality. They are often referred to as unit tests because they test a single unit or function of code. These statements will produce an `AssertionError` if your function does not produce the expected result. Otherwise, they will run silently and produce no result."
   ],
   "metadata": {}
  },
  {
   "cell_type": "code",
   "execution_count": 3,
   "source": [
    "assert(time_to_fall(0) == 0)\n",
    "assert(time_to_fall(20) == 2)"
   ],
   "outputs": [],
   "metadata": {}
  },
  {
   "cell_type": "markdown",
   "source": [
    "<b> ADD ONE MORE ASSERT STATEMENT BELOW </b>"
   ],
   "metadata": {}
  },
  {
   "cell_type": "code",
   "execution_count": 4,
   "source": [
    "#TO DO: Add an assert statement in this cell!\n",
    "assert(time_to_fall(500) == 10)"
   ],
   "outputs": [],
   "metadata": {}
  }
 ],
 "metadata": {
  "kernelspec": {
   "name": "python3",
   "display_name": "Python 3.8.8 64-bit ('base': conda)"
  },
  "language_info": {
   "codemirror_mode": {
    "name": "ipython",
    "version": 3
   },
   "file_extension": ".py",
   "mimetype": "text/x-python",
   "name": "python",
   "nbconvert_exporter": "python",
   "pygments_lexer": "ipython3",
   "version": "3.8.8"
  },
  "interpreter": {
   "hash": "ef8a025e4cb44bf3c186bd9e6cf389595f698672843f9ad315610793c7cfbc33"
  }
 },
 "nbformat": 4,
 "nbformat_minor": 2
}