{
 "cells": [
  {
   "cell_type": "markdown",
   "source": [
    "### Emission Lines of Hydrogen"
   ],
   "metadata": {}
  },
  {
   "cell_type": "markdown",
   "source": [
    "Created by Natasha Proctor\n",
    "\n",
    "The background information below contains excerpts from Computational Physics by Mark Newman, Physics for Scientists and Engineers by Knight."
   ],
   "metadata": {}
  },
  {
   "cell_type": "code",
   "execution_count": 122,
   "source": [
    "from IPython.display import Image\n",
    "from IPython.core.display import HTML "
   ],
   "outputs": [],
   "metadata": {}
  },
  {
   "cell_type": "markdown",
   "source": [
    "When Bohr introduced his model of the atom, he contributed two new concepts to the Rutherford model that came from Einstein's ides of quanta:\n",
    "1. Only certain electron orbitals can exist\n",
    "2. An atom can jump from one state to another by emitting or absorbing a photon of just the right frequency to conserve energy"
   ],
   "metadata": {}
  },
  {
   "cell_type": "markdown",
   "source": [
    "One of the critical implications of the Bohr model is that atoms emit and absorb a discrete spectrum. Only those photons whos frequencies match the energy intervals between the stational states can be emitted or absorbed. Photons of other frequencies cannot be emitted or absorbed without violating energy conservation. "
   ],
   "metadata": {}
  },
  {
   "cell_type": "code",
   "execution_count": 123,
   "source": [
    "Image(url= \"https://d2vlcm61l7u1fs.cloudfront.net/media%2Fc80%2Fc80b5243-669e-43e4-abc6-9d8feb1cabff%2FphpqbgcTM.png\")"
   ],
   "outputs": [
    {
     "output_type": "execute_result",
     "data": {
      "text/html": [
       "<img src=\"https://d2vlcm61l7u1fs.cloudfront.net/media%2Fc80%2Fc80b5243-669e-43e4-abc6-9d8feb1cabff%2FphpqbgcTM.png\"/>"
      ],
      "text/plain": [
       "<IPython.core.display.Image object>"
      ]
     },
     "metadata": {},
     "execution_count": 123
    }
   ],
   "metadata": {}
  },
  {
   "cell_type": "markdown",
   "source": [
    "In 1888 Johannes Rydberg published his famous formula for the wavelengths $\\lambda$ of the emission lines of the hydrogen atom. "
   ],
   "metadata": {}
  },
  {
   "cell_type": "markdown",
   "source": [
    "$$ \\frac{1}{\\lambda} = R \\left( \\frac{1}{n_1^2} - \\frac{1}{n_2^2} \\right) $$"
   ],
   "metadata": {}
  },
  {
   "cell_type": "markdown",
   "source": [
    "where $R$ is the Rydberg constant $R = 1.097\\ \\times\\ 10^{-2} nm^{-1}$ and $n_1$ and $n_2$ are positive integers. For a given value of $n_1$, the wavelengths $\\lambda$ given by this formula for all $n_2 > n_1$ form a series. The first three such series, for $n_1$ = 1, 2, and 3, being known as the Lyman, Balmer, and Paschen series, after their respective discoverers. These series are illustrated in the image above."
   ],
   "metadata": {}
  },
  {
   "cell_type": "markdown",
   "source": [
    "#### Part 1: Calculating the wavelength of an absorbed photon"
   ],
   "metadata": {}
  },
  {
   "cell_type": "markdown",
   "source": [
    "Write a python program that takes $n_1$ and $n_2$ as parameters and returns the wavelength of the absorbed photon."
   ],
   "metadata": {}
  },
  {
   "cell_type": "code",
   "execution_count": 124,
   "source": [
    "R = 1.097E-2 #Rydberg constant [nm^(-1)]"
   ],
   "outputs": [],
   "metadata": {}
  },
  {
   "cell_type": "code",
   "execution_count": 125,
   "source": [
    "### TO DO: Write a function that uses n1, n2 and R to calculate the wavelength\n",
    "### DON'T FORGET YOUR DOC STRING!\n",
    "\n",
    "def wavelength(n1, n2):\n",
    "    \"\"\"\n",
    "    Calculates the wavelength of the absorbed photon when an electron jumps energy shells\n",
    "    Parameters:\n",
    "        n1: Original orbital\n",
    "        n2: Orbital the electron moves to\n",
    "    Returns:\n",
    "        (float) wavelength of the absorbed photon in nanometers\n",
    "    \n",
    "    \"\"\"\n",
    "    return 1/(R*(1/(n1**2)-1/(n2**2)))"
   ],
   "outputs": [],
   "metadata": {}
  },
  {
   "cell_type": "code",
   "execution_count": 126,
   "source": [
    "assert( abs(wavelength(1, 2) - 121.54) < 0.01 )"
   ],
   "outputs": [],
   "metadata": {}
  },
  {
   "cell_type": "markdown",
   "source": [
    "#### Part 2: Wavelength of a photon absorbed during ionization"
   ],
   "metadata": {}
  },
  {
   "cell_type": "markdown",
   "source": [
    "Notice as the value of $n$ get very large, the energy levels converge to a value. This value is $E = 0$ eV and occurs at $ n = \\infty$. This state is known as the ionization limit."
   ],
   "metadata": {}
  },
  {
   "cell_type": "markdown",
   "source": [
    "We can calculate the ground state energy of the Hydrogen atom by finding the ionization energy. The ionization energy is the amount of energy needed for the electron to transition from $n=1$ to $n=\\infty$. In other words, the amount of energy needed to remove the electron entirely from the atom in its ground state."
   ],
   "metadata": {}
  },
  {
   "cell_type": "markdown",
   "source": [
    "Analytically, find an expression for $\\lambda$ as $n_2 \\rightarrow \\infty$. Write this equation below using LaTeX.\n",
    "\n",
    "$\\lambda=\\frac{n_1*n_1}{R}$"
   ],
   "metadata": {}
  },
  {
   "cell_type": "code",
   "execution_count": 127,
   "source": [
    "### TO DO: Write a LaTeX equation for lambda as n2 -> inf"
   ],
   "outputs": [],
   "metadata": {}
  },
  {
   "cell_type": "code",
   "execution_count": 128,
   "source": [
    "### TO DO: Briefly explain your analytical solution.\n",
    "\n",
    "# If n_2 approaches infinity, 1/(n_2*n_2) approaches 0. Therefore, this term cancels in the formula for lambda.\n",
    "# Then, simply taking the reciprical of both sides yields a formula for lambda"
   ],
   "outputs": [],
   "metadata": {}
  },
  {
   "cell_type": "markdown",
   "source": [
    "Instead of purely calculating the ionization energy, we can expand our functionality and calculate the electron binding energy. This is the amount of energy needed for the electron to transition from $n = m$ to $n = \\infty$ where $m \\ge 1$. \n",
    "\n",
    "Using your analytical solution above, write an equation that determines the wavelength of a photon absorbed when an atom is ionized from an integer state $n$."
   ],
   "metadata": {}
  },
  {
   "cell_type": "code",
   "execution_count": 129,
   "source": [
    "### TO DO: Write a function uses n1 to calculate the binding energy\n",
    "\n",
    "def wavelengthToInfinity(n):\n",
    "    return n*n/R"
   ],
   "outputs": [],
   "metadata": {}
  },
  {
   "cell_type": "code",
   "execution_count": 130,
   "source": [
    "### TO DO: Write an assert statement\n",
    "assert(wavelengthToInfinity(1) == 91.15770282588878)"
   ],
   "outputs": [],
   "metadata": {}
  },
  {
   "cell_type": "markdown",
   "source": [
    "#### Part 3: Finding the frequency"
   ],
   "metadata": {}
  },
  {
   "cell_type": "markdown",
   "source": [
    "The frequency of the absorbed photon can be calculated from the wavelength and velocity of the wave. Since a photon is an electromagnetic wave, the velocity is the speed of light $c = 2.998 \\times 10^{8} m/s$. \n",
    "\n",
    "(Don't forget to convert $\\lambda$ from $nm$ to $m$)\n",
    "$$ f = \\frac{c}{\\lambda} $$"
   ],
   "metadata": {}
  },
  {
   "cell_type": "markdown",
   "source": [
    "Write a function that calculates the frequency of an electromagnetic wave from a known wavelength."
   ],
   "metadata": {}
  },
  {
   "cell_type": "code",
   "execution_count": 131,
   "source": [
    "c = 2.998E8 # Speed of light [m/s]"
   ],
   "outputs": [],
   "metadata": {}
  },
  {
   "cell_type": "code",
   "execution_count": 132,
   "source": [
    "### TO DO: Add a function to determine your frequency\n",
    "\n",
    "def frequency(wavelength):\n",
    "    return c/(1E-9*wavelength)"
   ],
   "outputs": [],
   "metadata": {}
  },
  {
   "cell_type": "code",
   "execution_count": 133,
   "source": [
    "### TO DO: Add AT LEAST one assert statement to test your function\n",
    "\n",
    "print(frequency(91))\n",
    "print(frequency(3))\n",
    "assert(frequency(91) == 3294505494505494.0)\n",
    "assert(frequency(3) == 9.993333333333333e+16)"
   ],
   "outputs": [
    {
     "output_type": "stream",
     "name": "stdout",
     "text": [
      "3294505494505494.0\n",
      "9.993333333333333e+16\n"
     ]
    }
   ],
   "metadata": {}
  },
  {
   "cell_type": "markdown",
   "source": [
    "#### Part 4: Finding the energy"
   ],
   "metadata": {}
  },
  {
   "cell_type": "markdown",
   "source": [
    "Finally, using that frequency and Planck's constant ($h = 6.626 \\times 10^{-34} Js$) we can find the energy of the photon. (Note: $1 eV = 1.602 \\times 10^{-19} J)$\n",
    "\n",
    "$$ E = hf $$"
   ],
   "metadata": {}
  },
  {
   "cell_type": "code",
   "execution_count": 134,
   "source": [
    "eV = 1.602E-19 # Electron Volt conversion [J]\n",
    "h = 6.626E-34 # Planck's constant [Js]"
   ],
   "outputs": [],
   "metadata": {}
  },
  {
   "cell_type": "code",
   "execution_count": 135,
   "source": [
    "# TO DO: Add a function to determine the energy\n",
    "def energy(f):\n",
    "    return  h*f/eV"
   ],
   "outputs": [],
   "metadata": {}
  },
  {
   "cell_type": "code",
   "execution_count": 136,
   "source": [
    "# TO DO: Add AT LEAST one assert statement to test your function\n",
    "assert(energy(329450549450549.44) == 1.3626337956675036)\n",
    "assert(energy(9993333333333332.0) == 41.3332251352476)\n"
   ],
   "outputs": [],
   "metadata": {}
  },
  {
   "cell_type": "markdown",
   "source": [
    "#### Part 5: Bringing it together"
   ],
   "metadata": {}
  },
  {
   "cell_type": "markdown",
   "source": [
    "Using all of the functions you've created so far, create one master equation that accepts a state $n_1$ and returns the electron binding energy (i.e. the energy of the photon absorbed)."
   ],
   "metadata": {}
  },
  {
   "cell_type": "code",
   "execution_count": 137,
   "source": [
    "# Don't change the name/parameters of this function -- I use it in a graph below\n",
    "def binding_energy(n1):\n",
    "    \"\"\"\n",
    "    Returns the binding energy of n1 in eV\n",
    "    Parameters:\n",
    "        n1 (int) ground state of the Hydrogen atom\n",
    "    Return:\n",
    "        (float) energy of absorbed photon\n",
    "    \"\"\"\n",
    "    w = wavelengthToInfinity(n1)\n",
    "\n",
    "    f = frequency(w)\n",
    "\n",
    "    return energy(f)"
   ],
   "outputs": [],
   "metadata": {}
  },
  {
   "cell_type": "code",
   "execution_count": 138,
   "source": [
    "print(binding_energy(1))"
   ],
   "outputs": [
    {
     "output_type": "stream",
     "name": "stdout",
     "text": [
      "13.602764392009988\n"
     ]
    }
   ],
   "metadata": {}
  },
  {
   "cell_type": "markdown",
   "source": [
    "Run your function above using $n_1 = 1$. This is the ionization energy. From conservation of energy, we know the energy of the absorbed photon must be equal to the energy gained by the electron. Since the electron moved from the ground state to the $E = 0$ eV state  during ionization, the ground state energy must be equal to the $-E_{photon}$"
   ],
   "metadata": {}
  },
  {
   "cell_type": "markdown",
   "source": [
    "Therefore, what is the energy of the ground state of the Hydrogen atom? Answer below. (You can check your answer using Google)"
   ],
   "metadata": {}
  },
  {
   "cell_type": "code",
   "execution_count": 139,
   "source": [
    "# -13.602 eV"
   ],
   "outputs": [],
   "metadata": {}
  },
  {
   "cell_type": "markdown",
   "source": [
    "#### Part 6: Visualizing Results"
   ],
   "metadata": {}
  },
  {
   "cell_type": "markdown",
   "source": [
    "Using your function that calculates wavelengths, we can create our own Hydrogen emissions spectrum visualization. Run the cells below to check it out."
   ],
   "metadata": {}
  },
  {
   "cell_type": "code",
   "execution_count": 140,
   "source": [
    "import matplotlib.pyplot as plt\n",
    "import numpy as np\n",
    "from ipywidgets import interact, fixed"
   ],
   "outputs": [],
   "metadata": {}
  },
  {
   "cell_type": "code",
   "execution_count": 143,
   "source": [
    "# In order for this to run correctly, you must have the binding_energy implemented correctly\n",
    "# If you have any issues with this, e-mail me or ask in class I'll help you debug.\n",
    "\n",
    "def plot_spectrum(lines):\n",
    "    f = plt.figure(figsize=(8,20)) # <-- modify these numbers to change the size of the image\n",
    "    n = np.linspace(1,lines,lines)\n",
    "    x = np.linspace(1,10,10)\n",
    "    energies = -binding_energy(n)\n",
    "    for i in range(len(energies)):\n",
    "        y = np.ones(10) * energies[i]\n",
    "        plt.plot(x, y)\n",
    "        plt.ylim(-14, 1)\n",
    "        plt.xlim(-2, 12)\n",
    "        plt.text(x[0] - 1, y[0], \"n = {i}\".format(i = i+1))\n",
    "        plt.ylabel(\"Energy (eV)\")\n",
    "        plt.title(\"Energy level diagram of the Hydrogen atom\")\n",
    "        plt.gca().axes.get_xaxis().set_visible(False)\n",
    "    plt.show()"
   ],
   "outputs": [
    {
     "output_type": "stream",
     "name": "stdout",
     "text": [
      "13.602764392009988\n"
     ]
    }
   ],
   "metadata": {}
  },
  {
   "cell_type": "code",
   "execution_count": 142,
   "source": [
    "interact(plot_spectrum, lines = (1,20));"
   ],
   "outputs": [
    {
     "output_type": "display_data",
     "data": {
      "application/vnd.jupyter.widget-view+json": {
       "version_major": 2,
       "version_minor": 0,
       "model_id": "eba84f512c45497bafeb66dd80107cbb"
      },
      "text/plain": [
       "interactive(children=(IntSlider(value=10, description='lines', max=20, min=1), Output()), _dom_classes=('widge…"
      ]
     },
     "metadata": {}
    }
   ],
   "metadata": {}
  }
 ],
 "metadata": {
  "kernelspec": {
   "name": "python3",
   "display_name": "Python 3.8.8 64-bit ('base': conda)"
  },
  "language_info": {
   "codemirror_mode": {
    "name": "ipython",
    "version": 3
   },
   "file_extension": ".py",
   "mimetype": "text/x-python",
   "name": "python",
   "nbconvert_exporter": "python",
   "pygments_lexer": "ipython3",
   "version": "3.8.8"
  },
  "interpreter": {
   "hash": "ef8a025e4cb44bf3c186bd9e6cf389595f698672843f9ad315610793c7cfbc33"
  }
 },
 "nbformat": 4,
 "nbformat_minor": 2
}